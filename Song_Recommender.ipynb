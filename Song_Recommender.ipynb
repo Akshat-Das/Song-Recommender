{
 "cells": [
  {
   "cell_type": "code",
   "execution_count": 1,
   "id": "857269eb",
   "metadata": {},
   "outputs": [],
   "source": [
    "import pandas as pd\n",
    "import numpy as np\n",
    "from sklearn.decomposition import NMF\n",
    "from sklearn.preprocessing import normalize\n",
    "from sklearn.impute import SimpleImputer"
   ]
  },
  {
   "cell_type": "code",
   "execution_count": 2,
   "id": "53d8767f",
   "metadata": {},
   "outputs": [
    {
     "name": "stderr",
     "output_type": "stream",
     "text": [
      "/home/akshat/anaconda3/lib/python3.8/site-packages/IPython/core/interactiveshell.py:3165: DtypeWarning: Columns (19) have mixed types.Specify dtype option on import or set low_memory=False.\n",
      "  has_raised = await self.run_ast_nodes(code_ast.body, cell_name,\n"
     ]
    }
   ],
   "source": [
    "spotify_data = pd.read_csv('./SpotifyAudioFeaturesApril2019.csv')"
   ]
  },
  {
   "cell_type": "code",
   "execution_count": 3,
   "id": "c283e160",
   "metadata": {},
   "outputs": [
    {
     "data": {
      "text/plain": [
       "(42305, 22)"
      ]
     },
     "execution_count": 3,
     "metadata": {},
     "output_type": "execute_result"
    }
   ],
   "source": [
    "spotify_data.shape"
   ]
  },
  {
   "cell_type": "code",
   "execution_count": 4,
   "id": "5c317d23",
   "metadata": {},
   "outputs": [
    {
     "name": "stdout",
     "output_type": "stream",
     "text": [
      "<class 'pandas.core.frame.DataFrame'>\n",
      "RangeIndex: 42305 entries, 0 to 42304\n",
      "Data columns (total 22 columns):\n",
      " #   Column            Non-Null Count  Dtype  \n",
      "---  ------            --------------  -----  \n",
      " 0   danceability      42305 non-null  float64\n",
      " 1   energy            42305 non-null  float64\n",
      " 2   key               42305 non-null  int64  \n",
      " 3   loudness          42305 non-null  float64\n",
      " 4   mode              42305 non-null  int64  \n",
      " 5   speechiness       42305 non-null  float64\n",
      " 6   acousticness      42305 non-null  float64\n",
      " 7   instrumentalness  42305 non-null  float64\n",
      " 8   liveness          42305 non-null  float64\n",
      " 9   valence           42305 non-null  float64\n",
      " 10  tempo             42305 non-null  float64\n",
      " 11  type              42305 non-null  object \n",
      " 12  id                42305 non-null  object \n",
      " 13  uri               42305 non-null  object \n",
      " 14  track_href        42305 non-null  object \n",
      " 15  analysis_url      42305 non-null  object \n",
      " 16  duration_ms       42305 non-null  int64  \n",
      " 17  time_signature    42305 non-null  int64  \n",
      " 18  genre             42305 non-null  object \n",
      " 19  song_name         21519 non-null  object \n",
      " 20  Unnamed: 0        20780 non-null  float64\n",
      " 21  title             20780 non-null  object \n",
      "dtypes: float64(10), int64(4), object(8)\n",
      "memory usage: 7.1+ MB\n"
     ]
    }
   ],
   "source": [
    "spotify_data.info()"
   ]
  },
  {
   "cell_type": "code",
   "execution_count": 5,
   "id": "46f2d82f",
   "metadata": {},
   "outputs": [],
   "source": [
    "song_name = spotify_data[\"song_name\"]"
   ]
  },
  {
   "cell_type": "code",
   "execution_count": 6,
   "id": "347f3b13",
   "metadata": {},
   "outputs": [
    {
     "name": "stdout",
     "output_type": "stream",
     "text": [
      "(42305,)\n",
      "True\n"
     ]
    }
   ],
   "source": [
    "print(song_name.shape)\n",
    "print(song_name.isnull().values.any())"
   ]
  },
  {
   "cell_type": "code",
   "execution_count": 7,
   "id": "9fdd447f",
   "metadata": {},
   "outputs": [],
   "source": [
    "song_name = song_name.values.reshape(-1,1)"
   ]
  },
  {
   "cell_type": "code",
   "execution_count": 8,
   "id": "2c46d535",
   "metadata": {},
   "outputs": [
    {
     "data": {
      "text/plain": [
       "(42305, 1)"
      ]
     },
     "execution_count": 8,
     "metadata": {},
     "output_type": "execute_result"
    }
   ],
   "source": [
    "song_name.shape"
   ]
  },
  {
   "cell_type": "code",
   "execution_count": 9,
   "id": "ce70f768",
   "metadata": {},
   "outputs": [
    {
     "data": {
      "text/html": [
       "<div>\n",
       "<style scoped>\n",
       "    .dataframe tbody tr th:only-of-type {\n",
       "        vertical-align: middle;\n",
       "    }\n",
       "\n",
       "    .dataframe tbody tr th {\n",
       "        vertical-align: top;\n",
       "    }\n",
       "\n",
       "    .dataframe thead th {\n",
       "        text-align: right;\n",
       "    }\n",
       "</style>\n",
       "<table border=\"1\" class=\"dataframe\">\n",
       "  <thead>\n",
       "    <tr style=\"text-align: right;\">\n",
       "      <th></th>\n",
       "      <th>Song-Names</th>\n",
       "    </tr>\n",
       "  </thead>\n",
       "  <tbody>\n",
       "    <tr>\n",
       "      <th>0</th>\n",
       "      <td>Mercury: Retrograde</td>\n",
       "    </tr>\n",
       "    <tr>\n",
       "      <th>1</th>\n",
       "      <td>Pathology</td>\n",
       "    </tr>\n",
       "    <tr>\n",
       "      <th>2</th>\n",
       "      <td>Symbiote</td>\n",
       "    </tr>\n",
       "    <tr>\n",
       "      <th>3</th>\n",
       "      <td>ProductOfDrugs (Prod. The Virus and Antidote)</td>\n",
       "    </tr>\n",
       "    <tr>\n",
       "      <th>4</th>\n",
       "      <td>Venom</td>\n",
       "    </tr>\n",
       "  </tbody>\n",
       "</table>\n",
       "</div>"
      ],
      "text/plain": [
       "                                      Song-Names\n",
       "0                            Mercury: Retrograde\n",
       "1                                      Pathology\n",
       "2                                       Symbiote\n",
       "3  ProductOfDrugs (Prod. The Virus and Antidote)\n",
       "4                                          Venom"
      ]
     },
     "execution_count": 9,
     "metadata": {},
     "output_type": "execute_result"
    }
   ],
   "source": [
    "imr = SimpleImputer(missing_values=np.nan, strategy='most_frequent')\n",
    "imr = imr.fit(song_name)\n",
    "imputed_data = imr.transform(song_name)\n",
    "song_name = pd.DataFrame(imputed_data)\n",
    "song_name = song_name.rename(columns={0:\"Song-Names\"})\n",
    "song_name.head()"
   ]
  },
  {
   "cell_type": "code",
   "execution_count": 10,
   "id": "fea3794f",
   "metadata": {},
   "outputs": [
    {
     "name": "stdout",
     "output_type": "stream",
     "text": [
      "genre          object\n",
      "mode            int64\n",
      "duration_ms     int64\n",
      "dtype: object\n",
      "       genre  mode  duration_ms\n",
      "0  Dark Trap     1       124539\n",
      "1  Dark Trap     1       224427\n",
      "2  Dark Trap     1        98821\n",
      "3  Dark Trap     1       123661\n",
      "4  Dark Trap     1       123298\n"
     ]
    }
   ],
   "source": [
    "df = spotify_data[[\"genre\",\"mode\",\"duration_ms\"]]\n",
    "print(df.dtypes)\n",
    "print(df.head())"
   ]
  },
  {
   "cell_type": "code",
   "execution_count": 11,
   "id": "7c3cdca6",
   "metadata": {},
   "outputs": [
    {
     "data": {
      "text/plain": [
       "genre          object\n",
       "mode            int64\n",
       "duration_ms     int64\n",
       "dtype: object"
      ]
     },
     "execution_count": 11,
     "metadata": {},
     "output_type": "execute_result"
    }
   ],
   "source": [
    "df.dtypes"
   ]
  },
  {
   "cell_type": "code",
   "execution_count": 12,
   "id": "629e3d09",
   "metadata": {},
   "outputs": [
    {
     "data": {
      "text/plain": [
       "Underground Rap    5875\n",
       "Dark Trap          4578\n",
       "Hiphop             3028\n",
       "trance             2999\n",
       "trap               2987\n",
       "techhouse          2975\n",
       "dnb                2966\n",
       "psytrance          2961\n",
       "techno             2956\n",
       "hardstyle          2936\n",
       "RnB                2099\n",
       "Trap Metal         1956\n",
       "Rap                1848\n",
       "Emo                1680\n",
       "Pop                 461\n",
       "Name: genre, dtype: int64"
      ]
     },
     "execution_count": 12,
     "metadata": {},
     "output_type": "execute_result"
    }
   ],
   "source": [
    "df[\"genre\"].value_counts()"
   ]
  },
  {
   "cell_type": "code",
   "execution_count": 13,
   "id": "b06f11ea",
   "metadata": {},
   "outputs": [],
   "source": [
    "df = df.replace({\"genre\":{\"Underground Rap\":0, \"Dark Trap\":1, \"Hiphop\":2, \"trance\":3, \"trap\":4, \"techhouse\":5, \"dnb\":6, \"psytrance\": 7, \"techno\":8, \"hardstyle\":9, \"RnB\":10, \"Trap Metal\":11, \"Rap\":12, \"Emo\":13, \"Pop\":14}})"
   ]
  },
  {
   "cell_type": "code",
   "execution_count": 14,
   "id": "33644aa7",
   "metadata": {},
   "outputs": [
    {
     "name": "stderr",
     "output_type": "stream",
     "text": [
      "/home/akshat/anaconda3/lib/python3.8/site-packages/sklearn/decomposition/_nmf.py:312: FutureWarning: The 'init' value, when 'init=None' and n_components is less than n_samples and n_features, will be changed from 'nndsvd' to 'nndsvda' in 1.1 (renaming of 0.26).\n",
      "  warnings.warn((\"The 'init' value, when 'init=None' and \"\n"
     ]
    }
   ],
   "source": [
    "nmf = NMF(n_components = 6)\n",
    "nmf_features = nmf.fit_transform(df)"
   ]
  },
  {
   "cell_type": "code",
   "execution_count": 15,
   "id": "936b2261",
   "metadata": {},
   "outputs": [
    {
     "data": {
      "text/plain": [
       "array([9.96314415e-01, 9.93855206e-01, 1.97643638e-09, ...,\n",
       "       9.73386535e-01, 9.57998355e-01, 9.88694857e-01])"
      ]
     },
     "execution_count": 15,
     "metadata": {},
     "output_type": "execute_result"
    }
   ],
   "source": [
    "norm_features = normalize(nmf_features)\n",
    "current_music = norm_features[23,:]\n",
    "similarities = norm_features.dot(current_music)\n",
    "similarities"
   ]
  },
  {
   "cell_type": "code",
   "execution_count": 16,
   "id": "3270aef9",
   "metadata": {},
   "outputs": [],
   "source": [
    "df2 = pd.DataFrame(norm_features)\n",
    "x = df2.join(song_name)\n",
    "df2 = pd.pivot_table(x, x[[0,1,2,3,4,5]],[\"Song-Names\"])\n",
    "def current_music(value):\n",
    "    print(\"Top 5 recommendations for given music are:\")\n",
    "    value = df2.loc[value]\n",
    "    similarities = df2.dot(value)\n",
    "    print(format(similarities.nlargest()))"
   ]
  },
  {
   "cell_type": "code",
   "execution_count": 17,
   "id": "9a45761f",
   "metadata": {},
   "outputs": [
    {
     "name": "stdout",
     "output_type": "stream",
     "text": [
      "Top 5 recommendations for given music are:\n",
      "Song-Names\n",
      "Touch My Body                                0.961032\n",
      "Slide (with Gunna)                           0.960898\n",
      "Make Tonight                                 0.960407\n",
      "Secret Admirer                               0.960227\n",
      "Good Lovin (feat. Fabolous & Ryan Leslie)    0.960226\n",
      "dtype: float64\n"
     ]
    }
   ],
   "source": [
    "current_music(\"Venom\")"
   ]
  },
  {
   "cell_type": "code",
   "execution_count": null,
   "id": "c4b77911",
   "metadata": {},
   "outputs": [],
   "source": []
  },
  {
   "cell_type": "code",
   "execution_count": null,
   "id": "305bde57",
   "metadata": {},
   "outputs": [],
   "source": []
  }
 ],
 "metadata": {
  "kernelspec": {
   "display_name": "Python 3",
   "language": "python",
   "name": "python3"
  },
  "language_info": {
   "codemirror_mode": {
    "name": "ipython",
    "version": 3
   },
   "file_extension": ".py",
   "mimetype": "text/x-python",
   "name": "python",
   "nbconvert_exporter": "python",
   "pygments_lexer": "ipython3",
   "version": "3.8.8"
  }
 },
 "nbformat": 4,
 "nbformat_minor": 5
}
